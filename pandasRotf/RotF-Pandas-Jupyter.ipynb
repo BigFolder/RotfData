{
 "cells": [
  {
   "cell_type": "markdown",
   "metadata": {},
   "source": [
    "Grabbing RotF Data from this pc, starting with basic imports.\n",
    "Using csv to parse the massive text files we make from the rotf discord bot channels.\n",
    "oprator is used to help clean and sort data for alternative specified uses."
   ]
  },
  {
   "cell_type": "code",
   "execution_count": 19,
   "metadata": {},
   "outputs": [],
   "source": [
    "import csv"
   ]
  },
  {
   "cell_type": "markdown",
   "metadata": {},
   "source": [
    "We use these 2 functions to clean the data we get from the rotf discord channel. Here is an example of what a line looks like from the csv.\n",
    "\n",
    "['deaths', '2019-07-18 21:16:42.498000', '<@&542343490600828930> : Pekson (6/8, 868) has been crushed by Thusala!']\\\n",
    "\n",
    "upon splitting this single line we get a very disgusting split on the main text that we want so we have to clean up each player, bossname, date and base fame. Basefame from the discord channel is the your base fame and not your actual death fame, using a bracketed system we've made a crude estimate of each death (Feel tree to tweak these numbers as you see fit.)\n"
   ]
  },
  {
   "cell_type": "code",
   "execution_count": 20,
   "metadata": {},
   "outputs": [
    {
     "name": "stdout",
     "output_type": "stream",
     "text": [
      "Give this part one moment, its cleaning every single death and loot drop from the discord channel.\n",
      "You will see two 'Completed' messages below this and this block is considered finished.\n",
      "Completed, filename = pandas_loot.txt\n",
      "Completed, filename = pandas_death.txt\n"
     ]
    }
   ],
   "source": [
    "def loot_data():\n",
    "    with open('Loot.txt', 'r') as file:\n",
    "        items = {} #Used to filter and find names for item blacklist\n",
    "        \n",
    "        newFile = open('pandas_loot.txt', 'w')\n",
    "        \n",
    "        newFile.write('player;item;type;date\\n')\n",
    "        \n",
    "        blacklist = ['mike', 'miniguy', 'miniguy', 'skilly', 'tuckingfypo', 'blanks', 'lootaveli', 'kyooooh', 'letgay',\n",
    "                     'freakbaby', 'byrooni', 'freeprem', 'darazakel', 'swan', 'chao', 'thotiana', 'kouhai', 'sendhelp',\n",
    "                     'weebster', 'son', 'calena', 'fleaf', 'loganalt', 'mike', 'skilly', 'lilgary', 'myra', 'kotvkedax',\n",
    "                     'zee', 'keep', 'shinx']\n",
    "\n",
    "\n",
    "        item_blacklist = ['pls video ;(((', 'pls video ;(((', 'autism', 'u aint gettin one', 'Depression',\n",
    "                          'hah u thought', 'YOINKED UR 10K FAME - ARENA', 'gay', 'Dead Streamer', 'Gay', '0 0 0',\n",
    "                          'A can of whoopass made for the hand.', 'yOU SMELL THIS TO0???', 'depression',\n",
    "                          'Streetwise dumb bruh, but booksmart.', 'Fioreen said to', 'bruhmoment', 'Lol get rekt mate',\n",
    "                          'Canhannon', 'LOL', 'looooooOOOOOOOOOOoooooooL', 'never getting a hc legit btw', '1',\n",
    "                          'Hvis pose', 'Hentai', 'Short Dagger', 'breastplate of the big titan',\n",
    "                          'Followers for Depression', 'u wish', 'Admin Sword', 'Omni Ring', 'oWocannon', ':)I',\n",
    "                          'handcannon', 'LOOOOOOL', 'Omnipotence Ring', 'u like getting loot', 'Public Arena Key',\n",
    "                          '64 Stacks of Cobblestone', ':)', 'this guy has 100% death ratio', 'this guy has swagger',\n",
    "                          'U GOT IT AGAIN GROSS BOW', 'GROSS BOW!!!', 'Shattered Waraxe', 'Lucky Potio',\n",
    "                          'he got hand & feet too', 'head', 'Lol you wish this was an Asura', 'MONEY MOVES!!!',\n",
    "                          'Handcannon', \"Tiive's Banhammer\", \"The Banhammer\",'no',\"Thusula's Slasher\"]\n",
    "\n",
    "        loots = csv.reader(file, delimiter=' ', quoting=csv.QUOTE_NONE)\n",
    "        for eachDrop in loots:\n",
    "            if len(eachDrop) > 5:\n",
    "                # Get Date\n",
    "                date = eachDrop[1][1:]\n",
    "\n",
    "                # Get Player name\n",
    "                user = eachDrop[5][1:-1]\n",
    "                user = user.lower()\n",
    "                # Get Drop Type (Pimal/Lege) 200 tokens check\n",
    "                drop_type = eachDrop[9]\n",
    "                # primal=Primal, legendary=Legendary, Necrotic = 200 necrop tokens.\n",
    "\n",
    "                # Get item name\n",
    "                item_name = eachDrop[11:]\n",
    "                final_item = ''\n",
    "                for eachIndex in item_name:\n",
    "\n",
    "                    if eachIndex[len(eachIndex)-1] == ']':\n",
    "                        final_item += eachIndex\n",
    "                        final_item = final_item[1:-1]\n",
    "                        break\n",
    "                    else:\n",
    "                        final_item += eachIndex + ' '\n",
    "\n",
    "                if drop_type == 'primal' and final_item not in item_blacklist and user not in blacklist:\n",
    "                    # Collect item\n",
    "                    if final_item not in items and final_item not in item_blacklist:\n",
    "                        \n",
    "                        newFile.write(user + ';' + final_item + \";\" + drop_type + ';' + date + '\\n')\n",
    "                    elif final_item in items and final_item not in item_blacklist:\n",
    "                        newFile.write(user + ';' + final_item + \";\" + drop_type + ';' + date + '\\n')\n",
    "\n",
    "                elif drop_type == 'legendary' and final_item not in item_blacklist and user not in blacklist:\n",
    "                    #Item name collection\n",
    "                    if final_item not in items and final_item not in item_blacklist:   \n",
    "                        newFile.write(user+';'+final_item+\";\"+drop_type+';'+date+'\\n')\n",
    "                    elif final_item in items and final_item not in item_blacklist:\n",
    "                        newFile.write(user+';'+final_item+\";\"+drop_type+';'+date+'\\n')\n",
    "                    # Total lege addition\n",
    "\n",
    "                elif drop_type == 'Necrotic' and user not in blacklist:\n",
    "                    # Total Token addition\n",
    "                   \n",
    "                    if drop_type =='Necrotic':\n",
    "                        # Extra work to grab token names\n",
    "                        token_item = final_item.split()\n",
    "                        final_item = ''\n",
    "                        for eachIndex in token_item[2:]:\n",
    "                            if ']' in eachIndex:\n",
    "                                final_item += eachIndex\n",
    "                                final_item = final_item[1:-3]\n",
    "                                #print(user, final_item, drop_type, date) working 100%\n",
    "                                newFile.write(user+';'+final_item+\";\"+drop_type+';'+date+'\\n')\n",
    "                                break\n",
    "                            else:\n",
    "                                final_item += eachIndex + ' '\n",
    "           \n",
    "        newFile.close()\n",
    "        return 'Completed, filename = pandas_loot.txt'\n",
    "        \n",
    "        \n",
    "\n",
    "def death_data():\n",
    "    with open('Death.txt', 'r') as DeathFile:\n",
    "\n",
    "        blacklist = ['mike', 'miniguy', 'miniguy', 'skilly', 'tuckingfypo', 'blanks', 'lootaveli', 'kyooooh', 'letgay',\n",
    "                     'freakbaby', 'byrooni', 'freeprem', 'darazakel', 'swan', 'chao', 'thotiana', 'kouhai', 'sendhelp',\n",
    "                     'weebster', 'son', 'calena', 'fleaf', 'loganalt', 'mike', 'skilly', 'lilgary', 'myra', 'kotvkedax',\n",
    "                     'zee', 'keep', 'lilpredato','nexuscrier','itscubic','vagrant','']\n",
    "\n",
    "        newFile = open('pandas_death.txt', 'w')\n",
    "        newFile.write('player;basefame;monster;date\\n')\n",
    "\n",
    "        deaths = csv.reader(DeathFile, delimiter=' ', quoting=csv.QUOTE_NONE)\n",
    "        for eachDeath in deaths:\n",
    "\n",
    "            if len(eachDeath) > 4 and eachDeath[3] != \"'@Deaths:\":\n",
    "\n",
    "                date = eachDeath[1][1:]\n",
    "                death = eachDeath[5:]\n",
    "                player = death[0]\n",
    "                player = player.lower()\n",
    "                max_deaths = death[1][1:-1]\n",
    "                #\n",
    "                monster = death[7:]\n",
    "                if monster[0] == 'Epic':\n",
    "                    monster = monster[1:]\n",
    "\n",
    "                monster = ' '.join(monster)[:-3]\n",
    "                basefame = int(death[2][:-1])\n",
    "\n",
    "                # Collect Player that died and their fame gained\n",
    "                if player not in blacklist:\n",
    "                    if basefame > 0 and basefame <= 450:\n",
    "                        newFile.write(player + ';' + str(basefame*1) + ';' + monster + ';' + date + '\\n')\n",
    "                    elif basefame > 450 and basefame <= 1000:\n",
    "                        newFile.write(player + ';' + str(basefame*1.5) + ';' + monster + ';' + date + '\\n')\n",
    "                    elif basefame > 1000 and basefame <= 3500:\n",
    "                        newFile.write(player + ';' + str(basefame*2) + ';' + monster + ';' + date + '\\n')\n",
    "                    elif basefame > 3500 and basefame <= 5000:\n",
    "                        newFile.write(player + ';' + str(basefame*2.5) + ';' + monster + ';' + date + '\\n')\n",
    "                    elif basefame > 5000 and basefame <= 7500:\n",
    "                        newFile.write(player + ';' + str(basefame*3.5) + ';' + monster + ';' + date + '\\n')\n",
    "                    elif basefame > 7500 and basefame <= 9000:\n",
    "                        newFile.write(player + ';' + str(basefame*4) + ';' + monster + ';' + date + '\\n')\n",
    "                    elif basefame > 9000 and basefame <= 9999:\n",
    "                        newFile.write(player + ';' + str(basefame*4.5) + ';' + monster + ';' + date + '\\n')\n",
    "                    elif basefame >= 10000 and basefame <= 10500:\n",
    "                        newFile.write(player + ';' + str(basefame*7) + ';' + monster + ';' + date + '\\n')\n",
    "                    elif basefame > 10500 and basefame <= 12500:\n",
    "                        newFile.write(player + ';' + str(basefame*5.5) + ';' + monster + ';' + date + '\\n')\n",
    "                    elif basefame > 12500 and basefame <= 15000:\n",
    "                        newFile.write(player + ';' + str(basefame*5.75) + ';' + monster + ';' + date + '\\n')\n",
    "                    elif basefame > 15000 and basefame <= 29999:\n",
    "                        newFile.write(player + ';' + str(basefame*6) + ';' + monster + ';' + date + '\\n')\n",
    "                    elif basefame > 29999 and basefame <= 31000:\n",
    "                        newFile.write(player + ';' + str(basefame*6.5) + ';' + monster + ';' + date + '\\n')\n",
    "                    elif basefame > 31000 and basefame <= 99999:\n",
    "                        newFile.write(player + ';' + str(basefame*10) + ';' + monster + ';' + date + '\\n')\n",
    "                    elif basefame > 99999:\n",
    "                        newFile.write(player + ';' + str(basefame*15) + ';' + monster + ';' + date + '\\n')\n",
    "\n",
    "        newFile.close()\n",
    "        return 'Completed, filename = pandas_death.txt'\n",
    "print(\"Give this part one moment, its cleaning every single death and loot drop from the discord channel.\\nYou will see two 'Completed' messages below this and this block is considered finished.\")\n",
    "print(loot_data())\n",
    "print(death_data())"
   ]
  },
  {
   "cell_type": "markdown",
   "metadata": {},
   "source": [
    "\n",
    "Nice The most confusing part is complete; Now we can actually begin exploring the data we've collected using 2 new libraries. Pandas and Seaborn, we'll use pandas to easily deal with our new text files as data frames and seaborn to better understand our data through visualization(graphs)"
   ]
  },
  {
   "cell_type": "code",
   "execution_count": 21,
   "metadata": {},
   "outputs": [],
   "source": [
    "# Each Import has that as there so that we don't have to write out pandas and seaborn when actively using each library.\n",
    "import pandas as pd\n",
    "import seaborn as sns"
   ]
  },
  {
   "cell_type": "markdown",
   "metadata": {},
   "source": [
    "Awesome, let's get a quick run down of what our data looks like from both the pandas_loot and pandas_death text files using pandas, When using the head() function from pandas it will print the first 5 rows of each dataframe, we can also grab a summary of each Data frame and look to see if anything interesting shows up immediately."
   ]
  },
  {
   "cell_type": "code",
   "execution_count": 23,
   "metadata": {},
   "outputs": [
    {
     "name": "stdout",
     "output_type": "stream",
     "text": [
      "Checking top 5 rows from Loots\n",
      "     player                item    type        date\n",
      "0     krtel      Orb of Destiny  primal  2019-07-18\n",
      "1  winybaby   Claw of the Beast  primal  2019-07-18\n",
      "2    annual  Bone Splinter Robe  primal  2019-07-18\n",
      "3   xproxod       Lycaon's Hide  primal  2019-07-18\n",
      "4   xproxod        Wand of Bone  primal  2019-07-18\n",
      "\n",
      "\n",
      "Checking Top 5 rows from Deaths\n",
      "       player  basefame       monster        date\n",
      "0  mooonlight    1425.0  Spoilt Flesh  2019-07-18\n",
      "1      pekson    1302.0       Thusala  2019-07-18\n",
      "2    survivor     316.0       Thusala  2019-07-18\n",
      "3  angelicpup    1288.5         Feral  2019-07-18\n",
      "4    thiccbic     316.0         Feral  2019-07-18\n"
     ]
    }
   ],
   "source": [
    "# Although we are using txt files we can still read it as a csv if we include a delimiter in our case ;\n",
    "# Every column of data in each line of our text files was seperated with a ';' \n",
    "loot_df = pd.read_csv('pandas_loot.txt', sep=';')\n",
    "\n",
    "death_df = pd.read_csv('pandas_death.txt', sep=';')\n",
    "\n",
    "print(\"Checking top 5 rows from Loots\")\n",
    "print(loot_df.head())\n",
    "\n",
    "print(\"\\n\\nChecking Top 5 rows from Deaths\")\n",
    "print(death_df.head())"
   ]
  },
  {
   "cell_type": "markdown",
   "metadata": {},
   "source": [
    "From this we can see our 4 column names for each Dataframe, Loots uses players, item, type and date. Deaths uses player, basefame, monster and date. This data is currently not sorted in any way it simple shows the first 5 lines of each text file the pandas dataframe was created from.\n",
    "\n",
    "Lets go a bit deeper with pandas function describe()\n"
   ]
  },
  {
   "cell_type": "code",
   "execution_count": 25,
   "metadata": {},
   "outputs": [
    {
     "name": "stdout",
     "output_type": "stream",
     "text": [
      "Using .describe on Loots DF\n",
      "\n",
      "         player                      item       type        date\n",
      "count     54226                     54226      54226       54226\n",
      "unique    10864                       151          3         159\n",
      "top     ehoniii  Cloak of the Planewalker  legendary  2019-06-16\n",
      "freq        291                      4724      49753         802\n",
      "\n",
      "\n",
      "Using .describe on Deaths DF\n",
      "\n",
      "           basefame\n",
      "count  1.957090e+05\n",
      "mean   2.187411e+03\n",
      "std    1.866197e+04\n",
      "min    1.000000e+00\n",
      "25%    2.670000e+02\n",
      "50%    8.985000e+02\n",
      "75%    2.166000e+03\n",
      "max    4.096125e+06\n"
     ]
    }
   ],
   "source": [
    "print(\"Using .describe on Loots DF\\n\")\n",
    "print(loot_df.describe())\n",
    "\n",
    "print(\"\\n\\nUsing .describe on Deaths DF\\n\")\n",
    "print(death_df.describe())"
   ]
  },
  {
   "cell_type": "markdown",
   "metadata": {},
   "source": [
    "Lets start with Deaths here as its the simpler one to explain (ironic). Here you see it only shows one column basefame, thats because all of the other columns were all string type data pieces, Pandas will always work around one datatype for a dataset unless specified directly, in this example basefame is type float, so pandas prioritizes that and ends up with some massive numbers due to how its grabbing the sum of the basefame column. Quick spoilter there is well over 400 million fame from deaths alone on the server right now just from the data we get from this discord channel.\n",
    "\n",
    "<br>\n",
    "<span style=\"color:red\"><span style=\"font-family:Courier; font-size:x-large;\">--Count--</span></span>\n",
    "\n",
    "Count from each column is expectedly equal, there are 54,232 total drops logged on that bot that are legendary or primal and not absolute trolls by mike, we blacklisted a wonky amount of items and a couple of players that mike tends to troll drop most often to try and deal with those issues.\n",
    "\n",
    "<br>\n",
    "<span style=\"color:red\"><span style=\"font-family:Courier; font-size:x-large;\">--Unique--</span></span>\n",
    "                                                 \n",
    "    \n",
    "Out of the 54,232 drops 10,864 players have dropped them all meaning that in an ideal world each player is dropping a mix of 5 lege/primal/tokens. \n",
    "\n",
    "There are 154 unique items and 3 unique types Legendary, Primal or the 200 Necropolis Tokens turn in.\n",
    "\n",
    "There are 159 total unique days of data from the discord channel.\n",
    "\n",
    "<br>\n",
    "<span style=\"color:red\"><span style=\"font-family:Courier; font-size:x-large;\">--Top--</span></span>\n",
    "                                            \n",
    "Top is going to seem obvious as well, Pandas doesn't hide behind much confusing and obfuscation with the information it projects. \n",
    "\n",
    "ehoniii has the most overall entries in the players column  meaning he may have the most drops if we include all legendaries, primals and token turn ins. \n",
    "\n",
    "The most common item is the planewalker, likely due to sprites mega spam for easy money starting off. \n",
    "\n",
    "The most common type is Legendary, expectedly; primals only dropped from one dungeon until the yeti boy came around. \n",
    "\n",
    "6/16/2019 is the day with the most logged drops of them all, this was on a sunday dat 25% boost :^)\n",
    "\n",
    "<br>\n",
    "<span style=\"color:red\"><span style=\"font-family:Courier; font-size:x-large;\">--Freq--</span></span>\n",
    "\n",
    "FREQ is short for FREQUENCY, this line gives us a bit more information on the \"TOP\" row\n",
    "\n",
    "Player \"ehoniii\" has dropped 291 notable times. <br><br>\n",
    "There have been 4724 Planewalker drops. <br> <br>\n",
    "Out of the 54,232 logged drops 49,753 of them are Legendary <br> <br>\n",
    "on 6/16/2019 802 Notable items dropped. \n",
    "<br>\n",
    "Lets look at that last part a bit more, out of 159 total days if 54,232 drops were evenly split you would have Approximately\n",
    "<br>\n",
    "\n",
    "342(rounded up) drops per unique day This Sunday doubled the average amount and then some. a near 200% Average drop of items.\n",
    "\n",
    "\n",
    "It's nice to break the data down like this. it becomes much easier to find interesting anomalies of sorts\n",
    "\n",
    "I want to look into the Deaths dataframe a bit more as it returned nothing insightful to us.\n"
   ]
  },
  {
   "cell_type": "code",
   "execution_count": 26,
   "metadata": {},
   "outputs": [
    {
     "name": "stdout",
     "output_type": "stream",
     "text": [
      "Getting the sum of all deaths logged\n",
      "\n",
      "428,095,947.0Total fame\n",
      "\n",
      "Getting the top 5 deaths\n",
      "\n",
      "         player   basefame               monster        date\n",
      "8520    wealthy  4096125.0             Queen Bee  2019-07-11\n",
      "23466    mrduck  3381045.0              Skeleton  2019-06-28\n",
      "69516    xdannx  2536530.0                Medusa  2019-05-07\n",
      "43907   impooop  2522295.0                Anubis  2019-06-06\n",
      "174750   eziiio  1851840.0  Limon the Sprite God  2019-02-26\n",
      "\n",
      "Getting the top 5 monster killers\n",
      "\n",
      "Angry Yeti             8042\n",
      "Zucc                   7965\n",
      "TStonetaker Boulder    7601\n",
      "Ortar                  7387\n",
      "Mysterious Card        7016\n",
      "Name: monster, dtype: int64\n"
     ]
    }
   ],
   "source": [
    "print(\"Getting the sum of all deaths logged\\n\")\n",
    "print(\"{:,}\".format(round(death_df.basefame.sum())) +'Total fame\\n')\n",
    "\n",
    "print(\"Getting the top 5 deaths\\n\")\n",
    "sorted_basefame = death_df.sort_values('basefame', ascending=False)\n",
    "print(sorted_basefame.head())\n",
    "\n",
    "print(\"\\nGetting the top 5 monster killers\\n\")\n",
    "monster = death_df.monster.value_counts()\n",
    "print(monster.head())\n",
    "\n"
   ]
  },
  {
   "cell_type": "markdown",
   "metadata": {},
   "source": [
    "From here we can see that there is approximately </span></span> <span style=\"color:red\"><span style=\"font-family:Courier; font-size:x-large;\"> 428 million fame</span></span> has entered the game since the start of this rotf discord bot. \n",
    "\n",
    "The top 5 deaths are ones from the legends leaderboard expectedly. Astonishingly in the top 5 monsters the<span style=\"color:red\"><span style=\"font-family:Courier; font-size:x-large;\"> Angry Yeti </span></span> has surpassed all of the other monsters and he was released much later into the rotf notifier bot's existence! Actual hard content? :O\n",
    "\n",
    "</span></span> <span style=\"color:green\"><span style=\"font-family:Courier; font-size:x-large;\"> Let's look back at the loots  Dataframe a bit more and prioritize Date column</span></span>\n"
   ]
  },
  {
   "cell_type": "code",
   "execution_count": 27,
   "metadata": {},
   "outputs": [
    {
     "name": "stdout",
     "output_type": "stream",
     "text": [
      "Getting Dates information from Loots_DF\n",
      "2019-06-16    802\n",
      "2019-03-24    689\n",
      "2019-07-14    684\n",
      "2019-06-30    664\n",
      "2019-03-31    640\n",
      "Name: date, dtype: int64\n"
     ]
    }
   ],
   "source": [
    "print(\"Getting Dates information from Loots_DF\")\n",
    "dates = loot_df.date.value_counts()\n",
    "print(dates.head())"
   ]
  },
  {
   "cell_type": "markdown",
   "metadata": {},
   "source": [
    "That is very interesting the top 5 total drops days are ALL Sundays. The 25% Loot boost almsot certainly plays a role in that, however it may be more about getting MORE players online to play actively inflating the drops per day as well. I do wonder what happened on 6/16/2019 to make it stand out so much more than the rest."
   ]
  },
  {
   "cell_type": "code",
   "execution_count": 28,
   "metadata": {},
   "outputs": [
    {
     "name": "stdout",
     "output_type": "stream",
     "text": [
      "Checking one date\n",
      "        player               item       type        date\n",
      "count      802                802        802         802\n",
      "unique     549                102          3           1\n",
      "top     baxter  Shattered War Axe  legendary  2019-06-16\n",
      "freq         9                 78        750         802\n"
     ]
    }
   ],
   "source": [
    "print(\"Checking one date\")\n",
    "selected_date = loot_df.loc[loot_df['date'] == '2019-06-16']\n",
    "print(selected_date.describe())"
   ]
  },
  {
   "cell_type": "markdown",
   "metadata": {},
   "source": [
    "Player named baxter got 9 drops <br> 78 of the drops this day were Shattered War Axes.\n",
    "<br>750 of the 802 drops were legendary <br>802 drops are split between 549 players and 102 different items drop, this number might be slightly slower since we seperated the primal tokens from the primal drops.<br> Lets dig deeper.\n"
   ]
  },
  {
   "cell_type": "code",
   "execution_count": 29,
   "metadata": {
    "scrolled": true
   },
   "outputs": [
    {
     "name": "stdout",
     "output_type": "stream",
     "text": [
      "Top 5 dropped items\n",
      "Shattered War Axe             78\n",
      "Helm of the Juggernaut        58\n",
      "Shield of Ogmur               48\n",
      "Dagger of the Endless Void    47\n",
      "Crystal Wand                  38\n",
      "Name: item, dtype: int64\n",
      "\n",
      "\n",
      "\n",
      "Top 5 players (drop count)\n",
      "baxter       9\n",
      "ehoniii      8\n",
      "mrduck       7\n",
      "aurorious    6\n",
      "jaemincho    6\n",
      "Name: player, dtype: int64\n"
     ]
    }
   ],
   "source": [
    "item_drops = selected_date.item.value_counts()\n",
    "print(\"Top 5 dropped items\")\n",
    "print(item_drops.head())\n",
    "print('\\n\\n')\n",
    "\n",
    "print(\"Top 5 players (drop count)\")\n",
    "player_counts = selected_date.player.value_counts()\n",
    "print(player_counts.head())"
   ]
  },
  {
   "cell_type": "markdown",
   "metadata": {},
   "source": [
    "This appears to be just another day; showing the top 10 players and dropped items we see nothing abnormal about this, our item and player blacklists are working as intended. This means that this sunday above all others was just a very lucky sunday or there were many staff events that would inflate the drop counter substantially (This would take some effort).\n",
    "<br>\n",
    "<center><span style=\"color:green\"><span style=\"font-family:Courier; font-size:x-large;\"> Let's get more Visual</span></span></center>\n",
    "\n",
    "\n"
   ]
  },
  {
   "cell_type": "code",
   "execution_count": 30,
   "metadata": {},
   "outputs": [
    {
     "name": "stdout",
     "output_type": "stream",
     "text": [
      "Using the player counts we can get a better understanding on player 'luck'\n"
     ]
    },
    {
     "data": {
      "text/plain": [
       "<matplotlib.axes._subplots.AxesSubplot at 0x138a7630>"
      ]
     },
     "execution_count": 30,
     "metadata": {},
     "output_type": "execute_result"
    },
    {
     "data": {
      "image/png": "[encoded data removed]",
      "text/plain": [
       "<Figure size 432x288 with 1 Axes>"
      ]
     },
     "metadata": {
      "needs_background": "light"
     },
     "output_type": "display_data"
    }
   ],
   "source": [
    "print(\"Using the player counts we can get a better understanding on player 'luck'\")\n",
    "player_counts.plot.hist(title='x=Number of drops, y=#Number of players')"
   ]
  },
  {
   "cell_type": "markdown",
   "metadata": {},
   "source": [
    "While there is a notion from the playerbase that they are \"unlucky\" for not getting more drops the reality is that 98% of the playerbase coasts at around 1-3 drops, 1 drop being the bulk of the playerbase. and this is on the LUCKIEST day we have logged so far. You are not unlucky that player is likely EXTREMELY lucky or more realistically they are actively killing valuable monsters much more frequently than you are in a given time span. <br><br><br>\n",
    "\n",
    "<center><span style=\"color:green\"><span style=\"font-family:Courier; font-size:x-large;\">Let's Look at primal drops</span></span></center>"
   ]
  },
  {
   "cell_type": "code",
   "execution_count": 31,
   "metadata": {},
   "outputs": [
    {
     "name": "stdout",
     "output_type": "stream",
     "text": [
      "     player                item    type        date\n",
      "0     krtel      Orb of Destiny  primal  2019-07-18\n",
      "1  winybaby   Claw of the Beast  primal  2019-07-18\n",
      "2    annual  Bone Splinter Robe  primal  2019-07-18\n",
      "3   xproxod       Lycaon's Hide  primal  2019-07-18\n",
      "4   xproxod        Wand of Bone  primal  2019-07-18\n",
      "\n",
      "             player            item    type        date\n",
      "count         4473            4473    4473        4473\n",
      "unique         982              35       2         156\n",
      "top     cocknibble  Orb of Destiny  primal  2019-06-30\n",
      "freq            69             206    4018         105\n"
     ]
    }
   ],
   "source": [
    "selected_type = loot_df.loc[loot_df['type'] == 'primal']\n",
    "selected_type_tokens = loot_df.loc[loot_df['type']=='Necrotic']\n",
    "combined = pd.merge(selected_type, selected_type_tokens, how='outer')\n",
    "\n",
    "print(combined.head())\n",
    "print('\\n',combined.describe())"
   ]
  },
  {
   "cell_type": "markdown",
   "metadata": {},
   "source": [
    "Showing just primals Cocknibble is insane with 69 primal drops, the most common primal the \"Orb of Destiny\".\n",
    "A very interesting thing to noticed here is that the 4,479 total drops are dropped by just 982 players, A massive increase\n",
    "to the average notable drop count we saw erlier at just 1 per player, this is where the good players dwell. time for a better visual, lets see if there are larger discrepencies."
   ]
  },
  {
   "cell_type": "code",
   "execution_count": 32,
   "metadata": {},
   "outputs": [
    {
     "name": "stdout",
     "output_type": "stream",
     "text": [
      "cocknibble    69\n",
      "sniperb       49\n",
      "paluuu        44\n",
      "uta           43\n",
      "femboy        40\n",
      "Name: player, dtype: int64\n"
     ]
    },
    {
     "data": {
      "text/plain": [
       "<matplotlib.axes._subplots.AxesSubplot at 0x13647d30>"
      ]
     },
     "execution_count": 32,
     "metadata": {},
     "output_type": "execute_result"
    },
    {
     "data": {
      "image/png": "[encoded data removed]",
      "text/plain": [
       "<Figure size 432x288 with 1 Axes>"
      ]
     },
     "metadata": {
      "needs_background": "light"
     },
     "output_type": "display_data"
    }
   ],
   "source": [
    "player_counts = combined.player.value_counts()\n",
    "print(player_counts.head())\n",
    "player_counts.plot.hist()"
   ]
  },
  {
   "cell_type": "markdown",
   "metadata": {},
   "source": [
    "I used the df.head function to show the top 5 players as far as dropped primals goes and then tossed all players onto a histogram as we can see yet again, playes are not \"unlucky\" they are simply skewed by seeing some of the more avid and non time-gated players go ham. Let's look at specific items."
   ]
  },
  {
   "cell_type": "code",
   "execution_count": 33,
   "metadata": {},
   "outputs": [
    {
     "name": "stdout",
     "output_type": "stream",
     "text": [
      "Orb of Destiny           206\n",
      "The Twilight Grimoire    198\n",
      "Necklace of Fangs        193\n",
      "Lycaon's Hide            192\n",
      "Elithor's Soul Bottle    189\n",
      "Name: item, dtype: int64\n"
     ]
    },
    {
     "data": {
      "text/plain": [
       "<matplotlib.axes._subplots.AxesSubplot at 0x136581d0>"
      ]
     },
     "execution_count": 33,
     "metadata": {},
     "output_type": "execute_result"
    },
    {
     "data": {
      "image/png": "[encoded data removed]",
      "text/plain": [
       "<Figure size 432x288 with 1 Axes>"
      ]
     },
     "metadata": {
      "needs_background": "light"
     },
     "output_type": "display_data"
    }
   ],
   "source": [
    "item_counts= combined.item.value_counts()\n",
    "print(item_counts.head())\n",
    "\n",
    "\n",
    "\n",
    "item_counts.plot.barh(fontsize=7)\n"
   ]
  },
  {
   "cell_type": "code",
   "execution_count": null,
   "metadata": {},
   "outputs": [],
   "source": []
  },
  {
   "cell_type": "code",
   "execution_count": null,
   "metadata": {},
   "outputs": [],
   "source": []
  }
 ],
 "metadata": {
  "kernelspec": {
   "display_name": "Python 3",
   "language": "python",
   "name": "python3"
  },
  "language_info": {
   "codemirror_mode": {
    "name": "ipython",
    "version": 3
   },
   "file_extension": ".py",
   "mimetype": "text/x-python",
   "name": "python",
   "nbconvert_exporter": "python",
   "pygments_lexer": "ipython3",
   "version": "3.7.3"
  }
 },
 "nbformat": 4,
 "nbformat_minor": 2
}
